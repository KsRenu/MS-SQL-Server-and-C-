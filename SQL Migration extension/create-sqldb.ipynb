{
    "metadata": {
        "kernelspec": {
            "name": "python3",
            "display_name": "Python 3 (ipykernel)",
            "language": "python"
        },
        "language_info": {
            "name": "python",
            "version": "3.9.7",
            "mimetype": "text/x-python",
            "codemirror_mode": {
                "name": "ipython",
                "version": 3
            },
            "pygments_lexer": "ipython3",
            "nbconvert_exporter": "python",
            "file_extension": ".py"
        }
    },
    "nbformat_minor": 2,
    "nbformat": 4,
    "cells": [
        {
            "cell_type": "markdown",
            "source": [
                "Create Azure SQL Database\n",
                "============================================\n",
                "\n",
                "Steps of this procedure include:\n",
                "1. Set variables and set up Notebook\n",
                "1. Connect to Azure account and subscription\n",
                "1. Provision firewall rules\n",
                "1. Create SQL database resource"
            ],
            "metadata": {
                "azdata_cell_guid": "6af59d69-ade7-480a-b33e-52a86fe5bfd3"
            }
        },
        {
            "cell_type": "markdown",
            "source": [
                "## Set variables\r\n",
                "These variables are set based on your inputs in the deployment wizard. You can make changes to these variables but be aware of possible validation errors caused by your changes.\r\n",
                "\r\n",
                "\r\n",
                "\r\n",
                "\r\n",
                ""
            ],
            "metadata": {
                "azdata_cell_guid": "b57c46c8-4a34-49af-9b62-aa5688a02002"
            }
        },
        {
            "cell_type": "code",
            "source": [
                "azure_sqldb_subscription = '9fda1f82-95d8-4bfd-8baa-e66768cbb94a'\n",
                "azure_sqldb_resource_group_name = 'azuresql'\n",
                "azure_sqldb_server_name = 'adsdeployment'\n",
                "azure_sqldb_database_name = 'myazuredb'\n",
                "azure_sqldb_collation = 'SQL_Latin1_General_CP1_CI_AS'\n",
                "azure_sqldb_enable_firewall_rule = True\n",
                "azure_sqldb_ip_start = '10.0.2.1'\n",
                "azure_sqldb_ip_end = '10.0.2.44'\n",
                "azure_sqldb_firewall_name = 'clientaccess'\n",
                "# azure_sqldb_ip_start = '103.160.216.0'\n",
                "# azure_sqldb_ip_end = '103.160.216.255'\n",
                "# azure_sqldb_firewall_name = 'ClientIPAddress_2023-03-02_05-24-28'\n",
                "\n",
                ""
            ],
            "metadata": {
                "azdata_cell_guid": "6338e1b3-282f-40cb-83f5-1c79772218fe",
                "language": "python"
            },
            "outputs": [],
            "execution_count": 31
        },
        {
            "cell_type": "markdown",
            "source": [
                "## Notebook Setup "
            ],
            "metadata": {
                "azdata_cell_guid": "19ebf0fd-7010-4cd6-8bcd-d2f63dc75cfb"
            }
        },
        {
            "cell_type": "code",
            "source": [
                "import sys, os, json, time, string, random, subprocess\r\n",
                "def run_command(command, json_decode = True, printOutput = True):\n",
                "    print(command)\n",
                "    process = subprocess.Popen(command.split(), stdout=subprocess.PIPE, stderr=subprocess.PIPE, shell=True)\n",
                "    output, error = process.communicate()\n",
                "    if process.returncode != 0: \n",
                "        print(\"Process failed %d \\n%s\" % (process.returncode, error.decode(\"utf-8\")))\n",
                "        raise Exception()\n",
                "    if output:\n",
                "        output = output.decode(\"utf-8\")\n",
                "        if printOutput:\n",
                "            print(output)\n",
                "        try:\n",
                "            return json.loads(output)\n",
                "        except:\n",
                "            return output\r\n"
            ],
            "metadata": {
                "azdata_cell_guid": "c320ffe2-c488-4bd8-9886-c7deeae02996",
                "tags": [],
                "language": "python"
            },
            "outputs": [],
            "execution_count": 32
        },
        {
            "cell_type": "markdown",
            "source": [
                "## Connecting to your Azure account\r\n",
                ""
            ],
            "metadata": {
                "azdata_cell_guid": "e34334a7-0d55-4c18-8c0a-1c4a673629cd"
            }
        },
        {
            "cell_type": "code",
            "source": [
                "# subscriptions = run_command('az account list', printOutput = False)\r\n",
                "# if azure_sqldb_subscription not in (subscription[\"id\"] for subscription in subscriptions):\r\n",
                "#     run_command('az login')\r\n",
                "\r\n",
                "subscriptions = run_command('az account list', printOutput = False)\r\n",
                "if azure_sqldb_subscription not in (subscriptions):\r\n",
                "     run_command('az login')"
            ],
            "metadata": {
                "azdata_cell_guid": "96800b54-48a8-463b-886c-3d0e96f29765",
                "language": "python",
                "tags": []
            },
            "outputs": [
                {
                    "name": "stdout",
                    "text": "az account list\n",
                    "output_type": "stream"
                },
                {
                    "name": "stdout",
                    "text": "az login\n",
                    "output_type": "stream"
                },
                {
                    "name": "stdout",
                    "text": "\n     /\\\n    /  \\    _____   _ _  ___ _\n   / /\\ \\  |_  / | | | \\'__/ _\\\n  / ____ \\  / /| |_| | | |  __/\n /_/    \\_\\/___|\\__,_|_|  \\___|\n\n\nWelcome to the cool new Azure CLI!\n\nUse `az --version` to display the current version.\nHere are the base commands:\n\n    account             : Manage Azure subscription information.\n    acr                 : Manage private registries with Azure Container Registries.\n    ad                  : Manage Azure Active Directory Graph entities needed for Role Based Access\n                         Control.\n    advisor             : Manage Azure Advisor.\n    afd                 : Manage Azure Front Door Standard/Premium. For classical Azure Front Door,\n                         please refer https://docs.microsoft.com/en-us/cli/azure/network/front-\n                         door?view=azure-cli-latest.\n    aks                 : Manage Azure Kubernetes Services.\n    ams                 : Manage Azure Media Services resources.\n    apim                : Manage Azure API Management services.\n    appconfig           : Manage App Configurations.\n    appservice          : Manage App Service plans.\n    aro                 : Manage Azure Red Hat OpenShift clusters.\n    backup              : Manage Azure Backups.\n    batch               : Manage Azure Batch.\n    bicep               : Bicep CLI command group.\n    billing             : Manage Azure Billing.\n    bot                 : Manage Microsoft Azure Bot Service.\n    cache               : Commands to manage CLI objects cached using the `--defer` argument.\n    capacity            : Manage capacity resources.\n    cdn                 : Manage Azure Content Delivery Networks (CDNs).\n    cloud               : Manage registered Azure clouds.\n    cognitiveservices   : Manage Azure Cognitive Services accounts.\n    config              : Manage Azure CLI configuration.\n    configure           : Manage Azure CLI configuration. This command is interactive.\n    connection          : Commands to manage Service Connector local connections which allow local\n                         environment to connect Azure Resource. If you want to manage connection for\n                         compute service, please run 'az webapp/containerapp/spring connection'.\n    consumption         : Manage consumption of Azure resources.\n    container           : Manage Azure Container Instances.\n    cosmosdb            : Manage Azure Cosmos DB database accounts.\n    databoxedge         : Support data box edge device and management.\n    deployment          : Manage Azure Resource Manager template deployment at subscription scope.\n    deployment-scripts  : Manage deployment scripts at subscription or resource group scope.\n    deploymentmanager   : Create and manage rollouts for your service.\n    disk                : Manage Azure Managed Disks.\n    disk-access         : Manage disk access resources.\n    disk-encryption-set : Disk Encryption Set resource.\n    dla                 : Manage Data Lake Analytics accounts, jobs, and catalogs.\n    dls                 : Manage Data Lake Store accounts and filesystems.\n    dms                 : Manage Azure Data Migration Service (classic) instances.\n    eventgrid           : Manage Azure Event Grid topics, domains, domain topics, system topics\n                         partner topics, event subscriptions, system topic event subscriptions and\n                         partner topic event subscriptions.\n    eventhubs           : Manage Azure Event Hubs namespaces, eventhubs, consumergroups and geo\n                         recovery configurations - Alias.\n    extension           : Manage and update CLI extensions.\n    feature             : Manage resource provider features.\n    feedback            : Send feedback to the Azure CLI Team.\n    find                : I'm an AI robot, my advice is based on our Azure documentation as well as\n                         the usage patterns of Azure CLI and Azure ARM users. Using me improves\n                         Azure products and documentation.\n    functionapp         : Manage function apps. To install the Azure Functions Core tools see\n                         https://github.com/Azure/azure-functions-core-tools.\n    group               : Manage resource groups and template deployments.\n    hdinsight           : Manage HDInsight resources.\n    identity            : Managed Identities.\n    image               : Manage custom virtual machine images.\n    interactive         : Start interactive mode. Installs the Interactive extension if not\n                         installed already.\n    iot                 : Manage Internet of Things (IoT) assets.\n    keyvault            : Manage KeyVault keys, secrets, and certificates.\n    kusto               : Manage Azure Kusto resources.\n    lab                 : Manage Azure DevTest Labs.\n    lock                : Manage Azure locks.\n    logicapp            : Manage logic apps.\n    login               : Log in to Azure.\n    logout              : Log out to remove access to Azure subscriptions.\n    managed-cassandra   : Azure Managed Cassandra.\n    managedapp          : Manage template solutions provided and maintained by Independent Software\n                         Vendors (ISVs).\n    managedservices     : Manage the registration assignments and definitions in Azure.\n    maps                : Manage Azure Maps.\n    mariadb             : Manage Azure Database for MariaDB servers.\n    monitor             : Manage the Azure Monitor Service.\n    mysql               : Manage Azure Database for MySQL servers.\n    netappfiles         : Manage Azure NetApp Files (ANF) Resources.\n    network             : Manage Azure Network resources.\n    policy              : Manage resource policies.\n    postgres            : Manage Azure Database for PostgreSQL servers.\n    ppg                 : Manage Proximity Placement Groups.\n    private-link        : Private-link association CLI command group.\n    provider            : Manage resource providers.\n    redis               : Manage dedicated Redis caches for your Azure applications.\n    relay               : Manage Azure Relay Service namespaces, WCF relays, hybrid connections, and\n                         rules.\n    resource            : Manage Azure resources.\n    resourcemanagement  : Resourcemanagement CLI command group.\n    rest                : Invoke a custom request.\n    restore-point       : Manage restore point with res.\n    role                : Manage user roles for access control with Azure Active Directory and\n                         service principals.\n    search              : Manage Azure Search services, admin keys and query keys.\n    security            : Manage your security posture with Microsoft Defender for Cloud.\n    servicebus          : Manage Azure Service Bus namespaces, queues, topics, subscriptions, rules\n                         and geo-disaster recovery configuration alias.\n    sf                  : Manage and administer Azure Service Fabric clusters.\n    sig                 : Manage shared image gallery.\n    signalr             : Manage Azure SignalR Service.\n    snapshot            : Manage point-in-time copies of managed disks, native blobs, or other\n                         snapshots.\n    sql                 : Manage Azure SQL Databases and Data Warehouses.\n    sshkey              : Manage ssh public key with vm.\n    staticwebapp        : Manage static apps.\n    storage             : Manage Azure Cloud Storage resources.\n    survey              : Take Azure CLI survey.\n    synapse             : Manage and operate Synapse Workspace, Spark Pool, SQL Pool.\n    tag                 : Tag Management on a resource.\n    term                : Manage marketplace agreement with marketplaceordering.\n    ts                  : Manage template specs at subscription or resource group scope.\n    upgrade             : Upgrade Azure CLI and extensions.\n    version             : Show the versions of Azure CLI modules and extensions in JSON format by\n                         default or format configured by --output.\n    vm                  : Manage Linux or Windows virtual machines.\n    vmss                : Manage groupings of virtual machines in an Azure Virtual Machine Scale Set\n                         (VMSS).\n    webapp              : Manage web apps.\n\n",
                    "output_type": "stream"
                }
            ],
            "execution_count": 33
        },
        {
            "cell_type": "markdown",
            "source": [
                "## Setting your Azure subscription\r\n",
                ""
            ],
            "metadata": {
                "azdata_cell_guid": "ed6b781d-ce7e-4b51-a7ec-1eeeb2032c73"
            }
        },
        {
            "cell_type": "code",
            "source": [
                "run_command(\r\n",
                "    'az account set '\r\n",
                "    '--subscription {0}'\r\n",
                "    .format(\r\n",
                "        azure_sqldb_subscription));"
            ],
            "metadata": {
                "azdata_cell_guid": "17b57956-98cf-44de-9ab5-348469ddabf4",
                "language": "python"
            },
            "outputs": [
                {
                    "name": "stdout",
                    "text": "az account set --subscription 9fda1f82-95d8-4bfd-8baa-e66768cbb94a\n",
                    "output_type": "stream"
                },
                {
                    "name": "stdout",
                    "text": "\n     /\\\n    /  \\    _____   _ _  ___ _\n   / /\\ \\  |_  / | | | \\'__/ _\\\n  / ____ \\  / /| |_| | | |  __/\n /_/    \\_\\/___|\\__,_|_|  \\___|\n\n\nWelcome to the cool new Azure CLI!\n\nUse `az --version` to display the current version.\nHere are the base commands:\n\n    account             : Manage Azure subscription information.\n    acr                 : Manage private registries with Azure Container Registries.\n    ad                  : Manage Azure Active Directory Graph entities needed for Role Based Access\n                         Control.\n    advisor             : Manage Azure Advisor.\n    afd                 : Manage Azure Front Door Standard/Premium. For classical Azure Front Door,\n                         please refer https://docs.microsoft.com/en-us/cli/azure/network/front-\n                         door?view=azure-cli-latest.\n    aks                 : Manage Azure Kubernetes Services.\n    ams                 : Manage Azure Media Services resources.\n    apim                : Manage Azure API Management services.\n    appconfig           : Manage App Configurations.\n    appservice          : Manage App Service plans.\n    aro                 : Manage Azure Red Hat OpenShift clusters.\n    backup              : Manage Azure Backups.\n    batch               : Manage Azure Batch.\n    bicep               : Bicep CLI command group.\n    billing             : Manage Azure Billing.\n    bot                 : Manage Microsoft Azure Bot Service.\n    cache               : Commands to manage CLI objects cached using the `--defer` argument.\n    capacity            : Manage capacity resources.\n    cdn                 : Manage Azure Content Delivery Networks (CDNs).\n    cloud               : Manage registered Azure clouds.\n    cognitiveservices   : Manage Azure Cognitive Services accounts.\n    config              : Manage Azure CLI configuration.\n    configure           : Manage Azure CLI configuration. This command is interactive.\n    connection          : Commands to manage Service Connector local connections which allow local\n                         environment to connect Azure Resource. If you want to manage connection for\n                         compute service, please run 'az webapp/containerapp/spring connection'.\n    consumption         : Manage consumption of Azure resources.\n    container           : Manage Azure Container Instances.\n    cosmosdb            : Manage Azure Cosmos DB database accounts.\n    databoxedge         : Support data box edge device and management.\n    deployment          : Manage Azure Resource Manager template deployment at subscription scope.\n    deployment-scripts  : Manage deployment scripts at subscription or resource group scope.\n    deploymentmanager   : Create and manage rollouts for your service.\n    disk                : Manage Azure Managed Disks.\n    disk-access         : Manage disk access resources.\n    disk-encryption-set : Disk Encryption Set resource.\n    dla                 : Manage Data Lake Analytics accounts, jobs, and catalogs.\n    dls                 : Manage Data Lake Store accounts and filesystems.\n    dms                 : Manage Azure Data Migration Service (classic) instances.\n    eventgrid           : Manage Azure Event Grid topics, domains, domain topics, system topics\n                         partner topics, event subscriptions, system topic event subscriptions and\n                         partner topic event subscriptions.\n    eventhubs           : Manage Azure Event Hubs namespaces, eventhubs, consumergroups and geo\n                         recovery configurations - Alias.\n    extension           : Manage and update CLI extensions.\n    feature             : Manage resource provider features.\n    feedback            : Send feedback to the Azure CLI Team.\n    find                : I'm an AI robot, my advice is based on our Azure documentation as well as\n                         the usage patterns of Azure CLI and Azure ARM users. Using me improves\n                         Azure products and documentation.\n    functionapp         : Manage function apps. To install the Azure Functions Core tools see\n                         https://github.com/Azure/azure-functions-core-tools.\n    group               : Manage resource groups and template deployments.\n    hdinsight           : Manage HDInsight resources.\n    identity            : Managed Identities.\n    image               : Manage custom virtual machine images.\n    interactive         : Start interactive mode. Installs the Interactive extension if not\n                         installed already.\n    iot                 : Manage Internet of Things (IoT) assets.\n    keyvault            : Manage KeyVault keys, secrets, and certificates.\n    kusto               : Manage Azure Kusto resources.\n    lab                 : Manage Azure DevTest Labs.\n    lock                : Manage Azure locks.\n    logicapp            : Manage logic apps.\n    login               : Log in to Azure.\n    logout              : Log out to remove access to Azure subscriptions.\n    managed-cassandra   : Azure Managed Cassandra.\n    managedapp          : Manage template solutions provided and maintained by Independent Software\n                         Vendors (ISVs).\n    managedservices     : Manage the registration assignments and definitions in Azure.\n    maps                : Manage Azure Maps.\n    mariadb             : Manage Azure Database for MariaDB servers.\n    monitor             : Manage the Azure Monitor Service.\n    mysql               : Manage Azure Database for MySQL servers.\n    netappfiles         : Manage Azure NetApp Files (ANF) Resources.\n    network             : Manage Azure Network resources.\n    policy              : Manage resource policies.\n    postgres            : Manage Azure Database for PostgreSQL servers.\n    ppg                 : Manage Proximity Placement Groups.\n    private-link        : Private-link association CLI command group.\n    provider            : Manage resource providers.\n    redis               : Manage dedicated Redis caches for your Azure applications.\n    relay               : Manage Azure Relay Service namespaces, WCF relays, hybrid connections, and\n                         rules.\n    resource            : Manage Azure resources.\n    resourcemanagement  : Resourcemanagement CLI command group.\n    rest                : Invoke a custom request.\n    restore-point       : Manage restore point with res.\n    role                : Manage user roles for access control with Azure Active Directory and\n                         service principals.\n    search              : Manage Azure Search services, admin keys and query keys.\n    security            : Manage your security posture with Microsoft Defender for Cloud.\n    servicebus          : Manage Azure Service Bus namespaces, queues, topics, subscriptions, rules\n                         and geo-disaster recovery configuration alias.\n    sf                  : Manage and administer Azure Service Fabric clusters.\n    sig                 : Manage shared image gallery.\n    signalr             : Manage Azure SignalR Service.\n    snapshot            : Manage point-in-time copies of managed disks, native blobs, or other\n                         snapshots.\n    sql                 : Manage Azure SQL Databases and Data Warehouses.\n    sshkey              : Manage ssh public key with vm.\n    staticwebapp        : Manage static apps.\n    storage             : Manage Azure Cloud Storage resources.\n    survey              : Take Azure CLI survey.\n    synapse             : Manage and operate Synapse Workspace, Spark Pool, SQL Pool.\n    tag                 : Tag Management on a resource.\n    term                : Manage marketplace agreement with marketplaceordering.\n    ts                  : Manage template specs at subscription or resource group scope.\n    upgrade             : Upgrade Azure CLI and extensions.\n    version             : Show the versions of Azure CLI modules and extensions in JSON format by\n                         default or format configured by --output.\n    vm                  : Manage Linux or Windows virtual machines.\n    vmss                : Manage groupings of virtual machines in an Azure Virtual Machine Scale Set\n                         (VMSS).\n    webapp              : Manage web apps.\n\n",
                    "output_type": "stream"
                }
            ],
            "execution_count": 34
        },
        {
            "cell_type": "markdown",
            "source": [
                "## Create a server firewall rule\r\n",
                "\r\n",
                "This firewall rule will allow you to access your server and database within IP range immediately after it is created."
            ],
            "metadata": {
                "azdata_cell_guid": "ba895abf-3176-48b5-9e49-a060b3f74370"
            }
        },
        {
            "cell_type": "code",
            "source": [
                "if azure_sqldb_enable_firewall_rule == True:\r\n",
                "    create_firewall_rule_result = run_command(\r\n",
                "        'az sql server firewall-rule create '\r\n",
                "        '--start-ip-address {0} '\r\n",
                "        '--end-ip-address {1} '\r\n",
                "        '--server {2} '\r\n",
                "        '--name {3} '\r\n",
                "        '--resource-group {4} '\r\n",
                "        .format(\r\n",
                "            azure_sqldb_ip_start, \r\n",
                "            azure_sqldb_ip_end, \r\n",
                "            azure_sqldb_server_name, \r\n",
                "            azure_sqldb_firewall_name, \r\n",
                "            azure_sqldb_resource_group_name));"
            ],
            "metadata": {
                "azdata_cell_guid": "ceae5670-292f-4c45-9c10-4ac85baf2d07",
                "language": "python"
            },
            "outputs": [
                {
                    "name": "stdout",
                    "text": "az sql server firewall-rule create --start-ip-address 10.0.2.1 --end-ip-address 10.0.2.44 --server adsdeployment --name clientaccess --resource-group azuresql \n",
                    "output_type": "stream"
                },
                {
                    "name": "stdout",
                    "text": "\n     /\\\n    /  \\    _____   _ _  ___ _\n   / /\\ \\  |_  / | | | \\'__/ _\\\n  / ____ \\  / /| |_| | | |  __/\n /_/    \\_\\/___|\\__,_|_|  \\___|\n\n\nWelcome to the cool new Azure CLI!\n\nUse `az --version` to display the current version.\nHere are the base commands:\n\n    account             : Manage Azure subscription information.\n    acr                 : Manage private registries with Azure Container Registries.\n    ad                  : Manage Azure Active Directory Graph entities needed for Role Based Access\n                         Control.\n    advisor             : Manage Azure Advisor.\n    afd                 : Manage Azure Front Door Standard/Premium. For classical Azure Front Door,\n                         please refer https://docs.microsoft.com/en-us/cli/azure/network/front-\n                         door?view=azure-cli-latest.\n    aks                 : Manage Azure Kubernetes Services.\n    ams                 : Manage Azure Media Services resources.\n    apim                : Manage Azure API Management services.\n    appconfig           : Manage App Configurations.\n    appservice          : Manage App Service plans.\n    aro                 : Manage Azure Red Hat OpenShift clusters.\n    backup              : Manage Azure Backups.\n    batch               : Manage Azure Batch.\n    bicep               : Bicep CLI command group.\n    billing             : Manage Azure Billing.\n    bot                 : Manage Microsoft Azure Bot Service.\n    cache               : Commands to manage CLI objects cached using the `--defer` argument.\n    capacity            : Manage capacity resources.\n    cdn                 : Manage Azure Content Delivery Networks (CDNs).\n    cloud               : Manage registered Azure clouds.\n    cognitiveservices   : Manage Azure Cognitive Services accounts.\n    config              : Manage Azure CLI configuration.\n    configure           : Manage Azure CLI configuration. This command is interactive.\n    connection          : Commands to manage Service Connector local connections which allow local\n                         environment to connect Azure Resource. If you want to manage connection for\n                         compute service, please run 'az webapp/containerapp/spring connection'.\n    consumption         : Manage consumption of Azure resources.\n    container           : Manage Azure Container Instances.\n    cosmosdb            : Manage Azure Cosmos DB database accounts.\n    databoxedge         : Support data box edge device and management.\n    deployment          : Manage Azure Resource Manager template deployment at subscription scope.\n    deployment-scripts  : Manage deployment scripts at subscription or resource group scope.\n    deploymentmanager   : Create and manage rollouts for your service.\n    disk                : Manage Azure Managed Disks.\n    disk-access         : Manage disk access resources.\n    disk-encryption-set : Disk Encryption Set resource.\n    dla                 : Manage Data Lake Analytics accounts, jobs, and catalogs.\n    dls                 : Manage Data Lake Store accounts and filesystems.\n    dms                 : Manage Azure Data Migration Service (classic) instances.\n    eventgrid           : Manage Azure Event Grid topics, domains, domain topics, system topics\n                         partner topics, event subscriptions, system topic event subscriptions and\n                         partner topic event subscriptions.\n    eventhubs           : Manage Azure Event Hubs namespaces, eventhubs, consumergroups and geo\n                         recovery configurations - Alias.\n    extension           : Manage and update CLI extensions.\n    feature             : Manage resource provider features.\n    feedback            : Send feedback to the Azure CLI Team.\n    find                : I'm an AI robot, my advice is based on our Azure documentation as well as\n                         the usage patterns of Azure CLI and Azure ARM users. Using me improves\n                         Azure products and documentation.\n    functionapp         : Manage function apps. To install the Azure Functions Core tools see\n                         https://github.com/Azure/azure-functions-core-tools.\n    group               : Manage resource groups and template deployments.\n    hdinsight           : Manage HDInsight resources.\n    identity            : Managed Identities.\n    image               : Manage custom virtual machine images.\n    interactive         : Start interactive mode. Installs the Interactive extension if not\n                         installed already.\n    iot                 : Manage Internet of Things (IoT) assets.\n    keyvault            : Manage KeyVault keys, secrets, and certificates.\n    kusto               : Manage Azure Kusto resources.\n    lab                 : Manage Azure DevTest Labs.\n    lock                : Manage Azure locks.\n    logicapp            : Manage logic apps.\n    login               : Log in to Azure.\n    logout              : Log out to remove access to Azure subscriptions.\n    managed-cassandra   : Azure Managed Cassandra.\n    managedapp          : Manage template solutions provided and maintained by Independent Software\n                         Vendors (ISVs).\n    managedservices     : Manage the registration assignments and definitions in Azure.\n    maps                : Manage Azure Maps.\n    mariadb             : Manage Azure Database for MariaDB servers.\n    monitor             : Manage the Azure Monitor Service.\n    mysql               : Manage Azure Database for MySQL servers.\n    netappfiles         : Manage Azure NetApp Files (ANF) Resources.\n    network             : Manage Azure Network resources.\n    policy              : Manage resource policies.\n    postgres            : Manage Azure Database for PostgreSQL servers.\n    ppg                 : Manage Proximity Placement Groups.\n    private-link        : Private-link association CLI command group.\n    provider            : Manage resource providers.\n    redis               : Manage dedicated Redis caches for your Azure applications.\n    relay               : Manage Azure Relay Service namespaces, WCF relays, hybrid connections, and\n                         rules.\n    resource            : Manage Azure resources.\n    resourcemanagement  : Resourcemanagement CLI command group.\n    rest                : Invoke a custom request.\n    restore-point       : Manage restore point with res.\n    role                : Manage user roles for access control with Azure Active Directory and\n                         service principals.\n    search              : Manage Azure Search services, admin keys and query keys.\n    security            : Manage your security posture with Microsoft Defender for Cloud.\n    servicebus          : Manage Azure Service Bus namespaces, queues, topics, subscriptions, rules\n                         and geo-disaster recovery configuration alias.\n    sf                  : Manage and administer Azure Service Fabric clusters.\n    sig                 : Manage shared image gallery.\n    signalr             : Manage Azure SignalR Service.\n    snapshot            : Manage point-in-time copies of managed disks, native blobs, or other\n                         snapshots.\n    sql                 : Manage Azure SQL Databases and Data Warehouses.\n    sshkey              : Manage ssh public key with vm.\n    staticwebapp        : Manage static apps.\n    storage             : Manage Azure Cloud Storage resources.\n    survey              : Take Azure CLI survey.\n    synapse             : Manage and operate Synapse Workspace, Spark Pool, SQL Pool.\n    tag                 : Tag Management on a resource.\n    term                : Manage marketplace agreement with marketplaceordering.\n    ts                  : Manage template specs at subscription or resource group scope.\n    upgrade             : Upgrade Azure CLI and extensions.\n    version             : Show the versions of Azure CLI modules and extensions in JSON format by\n                         default or format configured by --output.\n    vm                  : Manage Linux or Windows virtual machines.\n    vmss                : Manage groupings of virtual machines in an Azure Virtual Machine Scale Set\n                         (VMSS).\n    webapp              : Manage web apps.\n\n",
                    "output_type": "stream"
                }
            ],
            "execution_count": 35
        },
        {
            "cell_type": "markdown",
            "source": [
                "## Create Azure SQL Database\n",
                "\n",
                "Learn more about the different [cost and performance options](https://go.microsoft.com/fwlink/?linkid=842067) and [other additional customizations](https://go.microsoft.com/fwlink/?linkid=2147212) for creating the database"
            ],
            "metadata": {
                "azdata_cell_guid": "b460ca8f-65a7-4d6c-94b7-6d7dd9655fad"
            }
        },
        {
            "cell_type": "code",
            "source": [
                "create_database_result = run_command(\r\n",
                "    'az sql db create '\r\n",
                "    '--server {0} '\r\n",
                "    '--name {1} '\r\n",
                "    '--edition GeneralPurpose '\r\n",
                "    '--compute-model Serverless '\r\n",
                "    '--family Gen5 '\r\n",
                "    '--resource-group {2} '\r\n",
                "    '--min-capacity 0.5 '\r\n",
                "    '--max-size 32GB '\r\n",
                "    '--capacity 1 '\r\n",
                "    '--collation {3} '\r\n",
                "    .format(\r\n",
                "        azure_sqldb_server_name, \r\n",
                "        azure_sqldb_database_name, \r\n",
                "        azure_sqldb_resource_group_name, \r\n",
                "        azure_sqldb_collation));"
            ],
            "metadata": {
                "azdata_cell_guid": "dc3b2f6f-83ac-4a4d-9d81-2f534e90913e",
                "language": "python"
            },
            "outputs": [
                {
                    "name": "stdout",
                    "text": "az sql db create --server adsdeployment --name myazuredb --edition GeneralPurpose --compute-model Serverless --family Gen5 --resource-group azuresql --min-capacity 0.5 --max-size 32GB --capacity 1 --collation SQL_Latin1_General_CP1_CI_AS \n",
                    "output_type": "stream"
                },
                {
                    "name": "stdout",
                    "text": "\n     /\\\n    /  \\    _____   _ _  ___ _\n   / /\\ \\  |_  / | | | \\'__/ _\\\n  / ____ \\  / /| |_| | | |  __/\n /_/    \\_\\/___|\\__,_|_|  \\___|\n\n\nWelcome to the cool new Azure CLI!\n\nUse `az --version` to display the current version.\nHere are the base commands:\n\n    account             : Manage Azure subscription information.\n    acr                 : Manage private registries with Azure Container Registries.\n    ad                  : Manage Azure Active Directory Graph entities needed for Role Based Access\n                         Control.\n    advisor             : Manage Azure Advisor.\n    afd                 : Manage Azure Front Door Standard/Premium. For classical Azure Front Door,\n                         please refer https://docs.microsoft.com/en-us/cli/azure/network/front-\n                         door?view=azure-cli-latest.\n    aks                 : Manage Azure Kubernetes Services.\n    ams                 : Manage Azure Media Services resources.\n    apim                : Manage Azure API Management services.\n    appconfig           : Manage App Configurations.\n    appservice          : Manage App Service plans.\n    aro                 : Manage Azure Red Hat OpenShift clusters.\n    backup              : Manage Azure Backups.\n    batch               : Manage Azure Batch.\n    bicep               : Bicep CLI command group.\n    billing             : Manage Azure Billing.\n    bot                 : Manage Microsoft Azure Bot Service.\n    cache               : Commands to manage CLI objects cached using the `--defer` argument.\n    capacity            : Manage capacity resources.\n    cdn                 : Manage Azure Content Delivery Networks (CDNs).\n    cloud               : Manage registered Azure clouds.\n    cognitiveservices   : Manage Azure Cognitive Services accounts.\n    config              : Manage Azure CLI configuration.\n    configure           : Manage Azure CLI configuration. This command is interactive.\n    connection          : Commands to manage Service Connector local connections which allow local\n                         environment to connect Azure Resource. If you want to manage connection for\n                         compute service, please run 'az webapp/containerapp/spring connection'.\n    consumption         : Manage consumption of Azure resources.\n    container           : Manage Azure Container Instances.\n    cosmosdb            : Manage Azure Cosmos DB database accounts.\n    databoxedge         : Support data box edge device and management.\n    deployment          : Manage Azure Resource Manager template deployment at subscription scope.\n    deployment-scripts  : Manage deployment scripts at subscription or resource group scope.\n    deploymentmanager   : Create and manage rollouts for your service.\n    disk                : Manage Azure Managed Disks.\n    disk-access         : Manage disk access resources.\n    disk-encryption-set : Disk Encryption Set resource.\n    dla                 : Manage Data Lake Analytics accounts, jobs, and catalogs.\n    dls                 : Manage Data Lake Store accounts and filesystems.\n    dms                 : Manage Azure Data Migration Service (classic) instances.\n    eventgrid           : Manage Azure Event Grid topics, domains, domain topics, system topics\n                         partner topics, event subscriptions, system topic event subscriptions and\n                         partner topic event subscriptions.\n    eventhubs           : Manage Azure Event Hubs namespaces, eventhubs, consumergroups and geo\n                         recovery configurations - Alias.\n    extension           : Manage and update CLI extensions.\n    feature             : Manage resource provider features.\n    feedback            : Send feedback to the Azure CLI Team.\n    find                : I'm an AI robot, my advice is based on our Azure documentation as well as\n                         the usage patterns of Azure CLI and Azure ARM users. Using me improves\n                         Azure products and documentation.\n    functionapp         : Manage function apps. To install the Azure Functions Core tools see\n                         https://github.com/Azure/azure-functions-core-tools.\n    group               : Manage resource groups and template deployments.\n    hdinsight           : Manage HDInsight resources.\n    identity            : Managed Identities.\n    image               : Manage custom virtual machine images.\n    interactive         : Start interactive mode. Installs the Interactive extension if not\n                         installed already.\n    iot                 : Manage Internet of Things (IoT) assets.\n    keyvault            : Manage KeyVault keys, secrets, and certificates.\n    kusto               : Manage Azure Kusto resources.\n    lab                 : Manage Azure DevTest Labs.\n    lock                : Manage Azure locks.\n    logicapp            : Manage logic apps.\n    login               : Log in to Azure.\n    logout              : Log out to remove access to Azure subscriptions.\n    managed-cassandra   : Azure Managed Cassandra.\n    managedapp          : Manage template solutions provided and maintained by Independent Software\n                         Vendors (ISVs).\n    managedservices     : Manage the registration assignments and definitions in Azure.\n    maps                : Manage Azure Maps.\n    mariadb             : Manage Azure Database for MariaDB servers.\n    monitor             : Manage the Azure Monitor Service.\n    mysql               : Manage Azure Database for MySQL servers.\n    netappfiles         : Manage Azure NetApp Files (ANF) Resources.\n    network             : Manage Azure Network resources.\n    policy              : Manage resource policies.\n    postgres            : Manage Azure Database for PostgreSQL servers.\n    ppg                 : Manage Proximity Placement Groups.\n    private-link        : Private-link association CLI command group.\n    provider            : Manage resource providers.\n    redis               : Manage dedicated Redis caches for your Azure applications.\n    relay               : Manage Azure Relay Service namespaces, WCF relays, hybrid connections, and\n                         rules.\n    resource            : Manage Azure resources.\n    resourcemanagement  : Resourcemanagement CLI command group.\n    rest                : Invoke a custom request.\n    restore-point       : Manage restore point with res.\n    role                : Manage user roles for access control with Azure Active Directory and\n                         service principals.\n    search              : Manage Azure Search services, admin keys and query keys.\n    security            : Manage your security posture with Microsoft Defender for Cloud.\n    servicebus          : Manage Azure Service Bus namespaces, queues, topics, subscriptions, rules\n                         and geo-disaster recovery configuration alias.\n    sf                  : Manage and administer Azure Service Fabric clusters.\n    sig                 : Manage shared image gallery.\n    signalr             : Manage Azure SignalR Service.\n    snapshot            : Manage point-in-time copies of managed disks, native blobs, or other\n                         snapshots.\n    sql                 : Manage Azure SQL Databases and Data Warehouses.\n    sshkey              : Manage ssh public key with vm.\n    staticwebapp        : Manage static apps.\n    storage             : Manage Azure Cloud Storage resources.\n    survey              : Take Azure CLI survey.\n    synapse             : Manage and operate Synapse Workspace, Spark Pool, SQL Pool.\n    tag                 : Tag Management on a resource.\n    term                : Manage marketplace agreement with marketplaceordering.\n    ts                  : Manage template specs at subscription or resource group scope.\n    upgrade             : Upgrade Azure CLI and extensions.\n    version             : Show the versions of Azure CLI modules and extensions in JSON format by\n                         default or format configured by --output.\n    vm                  : Manage Linux or Windows virtual machines.\n    vmss                : Manage groupings of virtual machines in an Azure Virtual Machine Scale Set\n                         (VMSS).\n    webapp              : Manage web apps.\n\n",
                    "output_type": "stream"
                }
            ],
            "execution_count": 36
        }
    ]
}